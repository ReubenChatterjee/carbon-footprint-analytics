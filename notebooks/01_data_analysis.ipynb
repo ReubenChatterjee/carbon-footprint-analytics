{
 "cells": [
  {
   "cell_type": "code",
   "execution_count": null,
   "id": "c8aebaea-8718-40f5-874a-47f6e73c0ef9",
   "metadata": {},
   "outputs": [],
   "source": []
  }
 ],
 "metadata": {
  "kernelspec": {
   "display_name": "",
   "name": ""
  },
  "language_info": {
   "name": ""
  }
 },
 "nbformat": 4,
 "nbformat_minor": 5
}
